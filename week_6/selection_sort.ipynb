{
  "cells": [
    {
      "cell_type": "code",
      "execution_count": 1,
      "metadata": {
        "colab": {
          "base_uri": "https://localhost:8080/"
        },
        "id": "T7w9gyDhs27m",
        "outputId": "3e50257c-7c9e-4c09-aecc-f68170c3db24"
      },
      "outputs": [
        {
          "name": "stdout",
          "output_type": "stream",
          "text": [
            "Requirement already satisfied: pytest in /home/matheus/Desktop/UFRN/MATERIAS/ENG COMP/2 - SEMESTRE/AED 2/algorithms_and_data_structure/venv/lib/python3.10/site-packages (7.2.2)\n",
            "Requirement already satisfied: pytest-sugar in /home/matheus/Desktop/UFRN/MATERIAS/ENG COMP/2 - SEMESTRE/AED 2/algorithms_and_data_structure/venv/lib/python3.10/site-packages (0.9.6)\n",
            "Requirement already satisfied: attrs>=19.2.0 in /home/matheus/Desktop/UFRN/MATERIAS/ENG COMP/2 - SEMESTRE/AED 2/algorithms_and_data_structure/venv/lib/python3.10/site-packages (from pytest) (22.2.0)\n",
            "Requirement already satisfied: exceptiongroup>=1.0.0rc8 in /home/matheus/Desktop/UFRN/MATERIAS/ENG COMP/2 - SEMESTRE/AED 2/algorithms_and_data_structure/venv/lib/python3.10/site-packages (from pytest) (1.1.1)\n",
            "Requirement already satisfied: packaging in /home/matheus/Desktop/UFRN/MATERIAS/ENG COMP/2 - SEMESTRE/AED 2/algorithms_and_data_structure/venv/lib/python3.10/site-packages (from pytest) (23.0)\n",
            "Requirement already satisfied: pluggy<2.0,>=0.12 in /home/matheus/Desktop/UFRN/MATERIAS/ENG COMP/2 - SEMESTRE/AED 2/algorithms_and_data_structure/venv/lib/python3.10/site-packages (from pytest) (1.0.0)\n",
            "Requirement already satisfied: tomli>=1.0.0 in /home/matheus/Desktop/UFRN/MATERIAS/ENG COMP/2 - SEMESTRE/AED 2/algorithms_and_data_structure/venv/lib/python3.10/site-packages (from pytest) (2.0.1)\n",
            "Requirement already satisfied: iniconfig in /home/matheus/Desktop/UFRN/MATERIAS/ENG COMP/2 - SEMESTRE/AED 2/algorithms_and_data_structure/venv/lib/python3.10/site-packages (from pytest) (2.0.0)\n",
            "Requirement already satisfied: termcolor>=1.1.0 in /home/matheus/Desktop/UFRN/MATERIAS/ENG COMP/2 - SEMESTRE/AED 2/algorithms_and_data_structure/venv/lib/python3.10/site-packages (from pytest-sugar) (2.2.0)\n",
            "\n",
            "\u001b[1m[\u001b[0m\u001b[34;49mnotice\u001b[0m\u001b[1;39;49m]\u001b[0m\u001b[39;49m A new release of pip is available: \u001b[0m\u001b[31;49m23.0.1\u001b[0m\u001b[39;49m -> \u001b[0m\u001b[32;49m23.1\u001b[0m\n",
            "\u001b[1m[\u001b[0m\u001b[34;49mnotice\u001b[0m\u001b[1;39;49m]\u001b[0m\u001b[39;49m To update, run: \u001b[0m\u001b[32;49mpip install --upgrade pip\u001b[0m\n"
          ]
        }
      ],
      "source": [
        "!pip install pytest pytest-sugar"
      ]
    },
    {
      "cell_type": "code",
      "execution_count": 2,
      "metadata": {
        "colab": {
          "base_uri": "https://localhost:8080/"
        },
        "id": "c217oD8WtBA9",
        "outputId": "55f21006-1781-49fd-9565-5c68702d0f09"
      },
      "outputs": [
        {
          "name": "stdout",
          "output_type": "stream",
          "text": [
            "Writing test_data.py\n"
          ]
        }
      ],
      "source": [
        "%%file test_data.py\n",
        "import pytest\n",
        "\n",
        "def selectionSort(array):\n",
        "  \"\"\"\n",
        "  A function that takes an array de integers and return a sorted version \n",
        "  of that array using Selection Sort Algorithm. \n",
        "  \"\"\"\n",
        "  currentIdx = 0\n",
        "  while currentIdx < len(array) - 1:\n",
        "      smallestIdx = currentIdx\n",
        "      for i in range(currentIdx + 1, len(array)):\n",
        "          if array[smallestIdx] > array[i]:\n",
        "              smallestIdx = i\n",
        "      swap(currentIdx, smallestIdx, array)\n",
        "      currentIdx += 1\n",
        "  return array\n",
        "\n",
        "def swap(i, j, array):\n",
        "  \"\"\"\n",
        "  Swap the items i, j of array\n",
        "  \"\"\"\n",
        "  array[i], array[j] = array[j], array[i]\n",
        "\n",
        "@pytest.fixture(scope=\"session\")\n",
        "def data():\n",
        "    \n",
        "    array = []\n",
        "    \n",
        "    # test 1 data\n",
        "    array.append([8, 5, 2, 9, 5, 6, 3])\n",
        "\n",
        "    # test 2 data\n",
        "    array.append([1])\n",
        "\n",
        "    # test 3 data\n",
        "    array.append([1, 2])\n",
        "\n",
        "    # test 4 data\n",
        "    array.append([2, 1])\n",
        "\n",
        "    # test 5 data\n",
        "    array.append([-4, 5, 10, 8, -10, -6, -4, -2, -5, 3, 5, -4, -5, -1, 1, 6, -7, -6, -7, 8])\n",
        "\n",
        "    # test 6 data\n",
        "    array.append([-7, 2, 3, 8, -10, 4, -6, -10, -2, -7, 10, 5, 2, 9, -9, -5, 3, 8])\n",
        "\n",
        "    # test 7 data\n",
        "    array.append([544, -578, 556, 713, -655, -359, -810, -731, 194, -531, -685, 689, -279, -738, 886, -54, -320, -500, 738, 445, -401, 993, -753, 329, -396, -924, -975, 376, 748, -356, 972, 459, 399, 669, -488, 568, -702, 551, 763, -90, -249, -45, 452, -917, 394, 195, -877, 153, 153, 788, 844, 867, 266, -739, 904, -154, -947, 464, 343, -312, 150, -656, 528, 61, 94, -581])\n",
        "    \n",
        "    return array\n",
        "\n",
        "def test_1(data):\n",
        "    \"\"\"\n",
        "    Test evaluation for [8, 5, 2, 9, 5, 6, 3]\n",
        "    \"\"\"\n",
        "    assert selectionSort(data[0]) == [2, 3, 5, 5, 6, 8, 9]\n",
        "\n",
        "def test_2(data):\n",
        "    \"\"\"\n",
        "    Test evaluation for [1] \n",
        "    \"\"\"\n",
        "    assert selectionSort(data[1]) == [1]\n",
        "\n",
        "def test_3(data):\n",
        "    \"\"\"\n",
        "    Test evaluation for [1,2]\n",
        "    \"\"\"\n",
        "    assert selectionSort(data[2]) == [1,2]\n",
        "\n",
        "def test_4(data):\n",
        "    \"\"\"\n",
        "    Test evaluation for [2,1]\n",
        "    \"\"\"\n",
        "    assert selectionSort(data[3]) == [1,2]\n",
        "\n",
        "def test_5(data):\n",
        "    \"\"\"\n",
        "    Test evaluation for [-4, 5, 10, 8, -10, -6, -4, -2, -5, 3, 5, -4, -5, -1, 1, 6, -7, -6, -7, 8] \n",
        "    \"\"\"\n",
        "    assert selectionSort(data[4]) == [-10, -7, -7, -6, -6, -5, -5, -4, -4, -4, -2, -1, 1, 3, 5, 5, 6, 8, 8, 10] \n",
        "\n",
        "def test_6(data):\n",
        "    \"\"\"\n",
        "    Test evaluation for [-7, 2, 3, 8, -10, 4, -6, -10, -2, -7, 10, 5, 2, 9, -9, -5, 3, 8]\n",
        "    \"\"\"\n",
        "    assert selectionSort(data[5]) == [-10, -10, -9, -7, -7, -6, -5, -2, 2, 2, 3, 3, 4, 5, 8, 8, 9, 10]\n",
        "\n",
        "def test_7(data):\n",
        "    \"\"\"\n",
        "    Test evaluation for [544, -578, 556, 713, -655, -359, -810, -731, 194, -531, -685, 689, -279, -738, 886, -54, -320, -500, 738, 445, -401, 993, -753, 329, -396, -924, -975, 376, 748, -356, 972, 459, 399, 669, -488, 568, -702, 551, 763, -90, -249, -45, 452, -917, 394, 195, -877, 153, 153, 788, 844, 867, 266, -739, 904, -154, -947, 464, 343, -312, 150, -656, 528, 61, 94, -581]\n",
        "    \"\"\"\n",
        "    assert selectionSort(data[6]) == [-975, -947, -924, -917, -877, -810, -753, -739, -738, -731, -702, -685, -656, -655, -581, -578, -531, -500, -488, -401, -396, -359, -356, -320, -312, -279, -249, -154, -90, -54, -45, 61, 94, 150, 153, 153, 194, 195, 266, 329, 343, 376, 394, 399, 445, 452, 459, 464, 528, 544, 551, 556, 568, 669, 689, 713, 738, 748, 763, 788, 844, 867, 886, 904, 972, 993]"
      ]
    },
    {
      "cell_type": "code",
      "execution_count": 3,
      "metadata": {
        "colab": {
          "base_uri": "https://localhost:8080/"
        },
        "id": "bFuLjMLQshTR",
        "outputId": "a4d85cf5-9ab4-41be-88f7-0b9e94cd9490"
      },
      "outputs": [
        {
          "name": "stdout",
          "output_type": "stream",
          "text": [
            "\u001b[1mTest session starts (platform: linux, Python 3.10.6, pytest 7.2.2, pytest-sugar 0.9.6)\u001b[0m\n",
            "cachedir: .pytest_cache\n",
            "rootdir: /home/matheus/Desktop/UFRN/MATERIAS/ENG COMP/2 - SEMESTRE/AED 2/algorithms_and_data_structure/week_6\n",
            "plugins: anyio-3.6.2, sugar-0.9.6\n",
            "\u001b[1mcollecting ... \u001b[0m\n",
            " \u001b[36mtest_data.py\u001b[0m::test_1\u001b[0m \u001b[32m✓\u001b[0m                                           \u001b[32m14% \u001b[0m\u001b[40m\u001b[32m█\u001b[0m\u001b[40m\u001b[32m▌        \u001b[0m\n",
            " \u001b[36mtest_data.py\u001b[0m::test_2\u001b[0m \u001b[32m✓\u001b[0m                                           \u001b[32m29% \u001b[0m\u001b[40m\u001b[32m█\u001b[0m\u001b[40m\u001b[32m█\u001b[0m\u001b[40m\u001b[32m▉       \u001b[0m\n",
            " \u001b[36mtest_data.py\u001b[0m::test_3\u001b[0m \u001b[32m✓\u001b[0m                                           \u001b[32m43% \u001b[0m\u001b[40m\u001b[32m█\u001b[0m\u001b[40m\u001b[32m█\u001b[0m\u001b[40m\u001b[32m█\u001b[0m\u001b[40m\u001b[32m█▍     \u001b[0m\n",
            " \u001b[36mtest_data.py\u001b[0m::test_4\u001b[0m \u001b[32m✓\u001b[0m                                           \u001b[32m57% \u001b[0m\u001b[40m\u001b[32m█\u001b[0m\u001b[40m\u001b[32m█\u001b[0m\u001b[40m\u001b[32m█\u001b[0m\u001b[40m\u001b[32m█\u001b[0m\u001b[40m\u001b[32m█\u001b[0m\u001b[40m\u001b[32m▊    \u001b[0m\n",
            " \u001b[36mtest_data.py\u001b[0m::test_5\u001b[0m \u001b[32m✓\u001b[0m                                           \u001b[32m71% \u001b[0m\u001b[40m\u001b[32m█\u001b[0m\u001b[40m\u001b[32m█\u001b[0m\u001b[40m\u001b[32m█\u001b[0m\u001b[40m\u001b[32m█\u001b[0m\u001b[40m\u001b[32m█\u001b[0m\u001b[40m\u001b[32m█\u001b[0m\u001b[40m\u001b[32m█▎  \u001b[0m\n",
            " \u001b[36mtest_data.py\u001b[0m::test_6\u001b[0m \u001b[32m✓\u001b[0m                                           \u001b[32m86% \u001b[0m\u001b[40m\u001b[32m█\u001b[0m\u001b[40m\u001b[32m█\u001b[0m\u001b[40m\u001b[32m█\u001b[0m\u001b[40m\u001b[32m█\u001b[0m\u001b[40m\u001b[32m█\u001b[0m\u001b[40m\u001b[32m█\u001b[0m\u001b[40m\u001b[32m█\u001b[0m\u001b[40m\u001b[32m█\u001b[0m\u001b[40m\u001b[32m▋ \u001b[0m\n",
            " \u001b[36mtest_data.py\u001b[0m::test_7\u001b[0m \u001b[32m✓\u001b[0m                                          \u001b[32m100% \u001b[0m\u001b[40m\u001b[32m█\u001b[0m\u001b[40m\u001b[32m█\u001b[0m\u001b[40m\u001b[32m█\u001b[0m\u001b[40m\u001b[32m█\u001b[0m\u001b[40m\u001b[32m█\u001b[0m\u001b[40m\u001b[32m█\u001b[0m\u001b[40m\u001b[32m█\u001b[0m\u001b[40m\u001b[32m█\u001b[0m\u001b[40m\u001b[32m█\u001b[0m\u001b[40m\u001b[32m█\u001b[0m\n",
            "\n",
            "Results (0.02s):\n",
            "\u001b[32m       7 passed\u001b[0m\n"
          ]
        }
      ],
      "source": [
        "!pytest . -vv"
      ]
    }
  ],
  "metadata": {
    "colab": {
      "provenance": []
    },
    "kernelspec": {
      "display_name": "Python 3",
      "name": "python3"
    },
    "language_info": {
      "codemirror_mode": {
        "name": "ipython",
        "version": 3
      },
      "file_extension": ".py",
      "mimetype": "text/x-python",
      "name": "python",
      "nbconvert_exporter": "python",
      "pygments_lexer": "ipython3",
      "version": "3.10.6"
    }
  },
  "nbformat": 4,
  "nbformat_minor": 0
}
