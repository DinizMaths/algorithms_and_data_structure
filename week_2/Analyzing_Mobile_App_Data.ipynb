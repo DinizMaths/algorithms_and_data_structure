{
 "cells": [
  {
   "attachments": {},
   "cell_type": "markdown",
   "metadata": {},
   "source": [
    "# Analyzing Mobile App Data"
   ]
  },
  {
   "attachments": {},
   "cell_type": "markdown",
   "metadata": {},
   "source": [
    "The current Jupyter notebook is the result of a guided project from Dataquest. The objective is to find mobile apps that are profitable in two **datasets**:\n",
    "\n",
    "<p style=\"display: flex; align-items:center;\">\n",
    "  <a href=\"https://www.kaggle.com/datasets/ramamet4/app-store-apple-data-set-10k-apps\"><img src=\"https://img.shields.io/badge/Kaggle-20BEFF?style=for-the-badge&logo=Kaggle&logoColor=white\" target=\"_blank\"></a>&nbsp;&nbsp;<b>Apple Store data</b>&nbsp;(approximately seven thousand iOS apps)\n",
    "</p>\n",
    "\n",
    "<p style=\"display: flex; align-items:center;\">\n",
    "  <a href=\"https://www.kaggle.com/datasets/lava18/google-play-store-apps\"><img src=\"https://img.shields.io/badge/Kaggle-20BEFF?style=for-the-badge&logo=Kaggle&logoColor=white\" target=\"_blank\"></a>&nbsp;&nbsp;<b>Google Play Store data</b>&nbsp;(approximately ten thousand Android apps)\n",
    "</p>\n",
    "\n",
    "To achieve the goal of finding profitable mobile apps, this project will focus on free apps that can generate revenue by displaying ads. Additionally, this notebook will utilize classes created to apply Object-Oriented Programming principles. The code for these classes is available [here](./FakePandas.py).\n"
   ]
  },
  {
   "attachments": {},
   "cell_type": "markdown",
   "metadata": {},
   "source": [
    "# Importing Libs"
   ]
  },
  {
   "cell_type": "code",
   "execution_count": 745,
   "metadata": {},
   "outputs": [],
   "source": [
    "import FakePandas as fpd"
   ]
  },
  {
   "attachments": {},
   "cell_type": "markdown",
   "metadata": {},
   "source": [
    "# Auxiliar Functions"
   ]
  },
  {
   "cell_type": "code",
   "execution_count": 746,
   "metadata": {},
   "outputs": [],
   "source": [
    "def count_wrong_user_ratings(dataset, column):\n",
    "  column_values  = dataset.get_column(column)\n",
    "  rows_to_delete = []\n",
    "\n",
    "  dataset_user_rating_errors = 0\n",
    "  \n",
    "  for idx, value in enumerate(column_values):\n",
    "    if float(value) < 1 or float(value) > 5:\n",
    "      dataset_user_rating_errors += 1\n",
    "    \n",
    "  return dataset_user_rating_errors"
   ]
  },
  {
   "cell_type": "code",
   "execution_count": 747,
   "metadata": {},
   "outputs": [],
   "source": [
    "def delete_wrong_user_ratings(dataset, column):\n",
    "  column_values  = dataset.get_column(column)\n",
    "  rows_to_delete = []\n",
    "\n",
    "  for idx, value in enumerate(column_values):\n",
    "    if float(value) < 1 or float(value) > 5:\n",
    "      rows_to_delete.append(idx)\n",
    "\n",
    "  for idx in sorted(rows_to_delete, reverse=True):\n",
    "    dataset.delete_row(idx)"
   ]
  },
  {
   "cell_type": "code",
   "execution_count": 748,
   "metadata": {},
   "outputs": [],
   "source": [
    "def filter_dict(freq_dict, num_items):\n",
    "  filtered_dict_keys = list(freq_dict.keys())[:num_items]\n",
    "  filtered_dict = {}\n",
    "\n",
    "  for key in filtered_dict_keys:\n",
    "    filtered_dict[key] = freq_dict[key]\n",
    "\n",
    "  return filtered_dict"
   ]
  },
  {
   "cell_type": "code",
   "execution_count": 749,
   "metadata": {},
   "outputs": [],
   "source": [
    "def print_items_in_dict(freq_dict, num_items=None):\n",
    "  filtered_dict_keys = list(freq_dict.keys())\n",
    "\n",
    "  if num_items != None:\n",
    "    filtered_dict_keys = filtered_dict_keys[:num_items]\n",
    "\n",
    "  for key in filtered_dict_keys:\n",
    "    print(f\"{key} : {freq_dict[key]}\")"
   ]
  },
  {
   "cell_type": "code",
   "execution_count": 750,
   "metadata": {},
   "outputs": [],
   "source": [
    "def delete_duplicates_by_app_name(dataset, column):\n",
    "  column_values  = dataset.get_column(column)\n",
    "  rows_to_delete = []\n",
    "  unique_apps    = []\n",
    "\n",
    "  for idx, value in enumerate(column_values):\n",
    "    if value not in unique_apps:\n",
    "      unique_apps.append(value)\n",
    "    else:\n",
    "      rows_to_delete.append(idx)\n",
    "\n",
    "  for idx in sorted(rows_to_delete, reverse=True):\n",
    "    dataset.delete_row(idx)"
   ]
  },
  {
   "cell_type": "code",
   "execution_count": 751,
   "metadata": {},
   "outputs": [],
   "source": [
    "def is_english(string):\n",
    "  non_ascii = 0\n",
    "  \n",
    "  for character in string:\n",
    "    if ord(character) > 127:\n",
    "      non_ascii += 1\n",
    "  \n",
    "  if non_ascii > 3:\n",
    "    return False\n",
    "  else:\n",
    "    return True"
   ]
  },
  {
   "cell_type": "code",
   "execution_count": 752,
   "metadata": {},
   "outputs": [],
   "source": [
    "def delete_non_english_apps(dataset, column):\n",
    "  column_values  = dataset.get_column(column)\n",
    "  rows_to_delete = []\n",
    "\n",
    "  for idx, value in enumerate(column_values):\n",
    "    if not is_english(value):\n",
    "      rows_to_delete.append(idx)\n",
    "\n",
    "  for idx in sorted(rows_to_delete, reverse=True):\n",
    "    dataset.delete_row(idx)"
   ]
  },
  {
   "cell_type": "code",
   "execution_count": 753,
   "metadata": {},
   "outputs": [],
   "source": [
    "def deleting_paid_apps(dataset, column):\n",
    "  column_values  = dataset.get_column(column)\n",
    "  rows_to_delete = []\n",
    "\n",
    "  for idx, value in enumerate(column_values):\n",
    "    if float(value.replace('$', '')) != 0.0:\n",
    "      rows_to_delete.append(idx)\n",
    "\n",
    "  for idx in sorted(rows_to_delete, reverse=True):\n",
    "    dataset.delete_row(idx)"
   ]
  },
  {
   "cell_type": "code",
   "execution_count": 754,
   "metadata": {},
   "outputs": [],
   "source": [
    "def get_best_freq(genres_freq, percentage, size):\n",
    "  current_percentage = 0\n",
    "  best_freq          = {}\n",
    "\n",
    "  for key, value in genres_freq.items():\n",
    "    best_freq[key] = value / size\n",
    "    current_percentage += best_freq[key]\n",
    "    best_freq[key] = str(round(best_freq[key] * 100, 2)) + \"%\"\n",
    "    \n",
    "    if current_percentage >= percentage:\n",
    "      break\n",
    "  \n",
    "  return current_percentage, best_freq"
   ]
  },
  {
   "attachments": {},
   "cell_type": "markdown",
   "metadata": {},
   "source": [
    "# Data Aquisition"
   ]
  },
  {
   "cell_type": "code",
   "execution_count": 755,
   "metadata": {},
   "outputs": [],
   "source": [
    "data_applestore = fpd.read_csv(\"../data/AppleStore.csv\")\n",
    "data_playstore  = fpd.read_csv(\"../data/googleplaystore.csv\")"
   ]
  },
  {
   "cell_type": "code",
   "execution_count": 756,
   "metadata": {},
   "outputs": [
    {
     "data": {
      "text/plain": [
       "(7197, 16)"
      ]
     },
     "execution_count": 756,
     "metadata": {},
     "output_type": "execute_result"
    }
   ],
   "source": [
    "data_applestore.shape"
   ]
  },
  {
   "cell_type": "code",
   "execution_count": 757,
   "metadata": {},
   "outputs": [
    {
     "data": {
      "text/plain": [
       "(10840, 13)"
      ]
     },
     "execution_count": 757,
     "metadata": {},
     "output_type": "execute_result"
    }
   ],
   "source": [
    "data_playstore.shape"
   ]
  },
  {
   "attachments": {},
   "cell_type": "markdown",
   "metadata": {},
   "source": [
    "Let's see the first 5 apps in each dataset"
   ]
  },
  {
   "cell_type": "code",
   "execution_count": 758,
   "metadata": {},
   "outputs": [
    {
     "name": "stdout",
     "output_type": "stream",
     "text": [
      "=== Apple Store ===\n",
      "\n",
      "id: ['284882215', '389801252', '529479190', '420009108', '284035177']\n",
      "track_name: ['Facebook', 'Instagram', 'Clash of Clans', 'Temple Run', 'Pandora - Music & Radio']\n",
      "size_bytes: ['389879808', '113954816', '116476928', '65921024', '130242560']\n",
      "currency: ['USD', 'USD', 'USD', 'USD', 'USD']\n",
      "price: ['0.0', '0.0', '0.0', '0.0', '0.0']\n",
      "rating_count_tot: ['2974676', '2161558', '2130805', '1724546', '1126879']\n",
      "rating_count_ver: ['212', '1289', '579', '3842', '3594']\n",
      "user_rating: ['3.5', '4.5', '4.5', '4.5', '4.0']\n",
      "user_rating_ver: ['3.5', '4.0', '4.5', '4.0', '4.5']\n",
      "ver: ['95.0', '10.23', '9.24.12', '1.6.2', '8.4.1']\n",
      "cont_rating: ['4+', '12+', '9+', '9+', '12+']\n",
      "prime_genre: ['Social Networking', 'Photo & Video', 'Games', 'Games', 'Music']\n",
      "sup_devices.num: ['37', '37', '38', '40', '37']\n",
      "ipadSc_urls.num: ['1', '0', '5', '5', '4']\n",
      "lang.num: ['29', '29', '18', '1', '1']\n",
      "vpp_lic: ['1', '1', '1', '1', '1']\n"
     ]
    }
   ],
   "source": [
    "print(\"=== Apple Store ===\\n\")\n",
    "data_applestore.head()"
   ]
  },
  {
   "cell_type": "code",
   "execution_count": 759,
   "metadata": {},
   "outputs": [
    {
     "name": "stdout",
     "output_type": "stream",
     "text": [
      "=== Play Store ===\n",
      "\n",
      "App: ['Photo Editor & Candy Camera & Grid & ScrapBook', 'Coloring book moana', 'U Launcher Lite – FREE Live Cool Themes, Hide Apps', 'Sketch - Draw & Paint', 'Pixel Draw - Number Art Coloring Book']\n",
      "Category: ['ART_AND_DESIGN', 'ART_AND_DESIGN', 'ART_AND_DESIGN', 'ART_AND_DESIGN', 'ART_AND_DESIGN']\n",
      "Rating: ['4.1', '3.9', '4.7', '4.5', '4.3']\n",
      "Reviews: ['159', '967', '87510', '215644', '967']\n",
      "Size: ['19M', '14M', '8.7M', '25M', '2.8M']\n",
      "Installs: ['10,000+', '500,000+', '5,000,000+', '50,000,000+', '100,000+']\n",
      "Type: ['Free', 'Free', 'Free', 'Free', 'Free']\n",
      "Price: ['0', '0', '0', '0', '0']\n",
      "Content Rating: ['Everyone', 'Everyone', 'Everyone', 'Teen', 'Everyone']\n",
      "Genres: ['Art & Design', 'Art & Design;Pretend Play', 'Art & Design', 'Art & Design', 'Art & Design;Creativity']\n",
      "Last Updated: ['January 7, 2018', 'January 15, 2018', 'August 1, 2018', 'June 8, 2018', 'June 20, 2018']\n",
      "Current Ver: ['1.0.0', '2.0.0', '1.2.4', 'Varies with device', '1.1']\n",
      "Android Ver: ['4.0.3 and up', '4.0.3 and up', '4.0.3 and up', '4.2 and up', '4.4 and up']\n"
     ]
    }
   ],
   "source": [
    "print(\"=== Play Store ===\\n\")\n",
    "data_playstore.head()"
   ]
  },
  {
   "attachments": {},
   "cell_type": "markdown",
   "metadata": {},
   "source": [
    "# Deleting Data"
   ]
  },
  {
   "attachments": {},
   "cell_type": "markdown",
   "metadata": {},
   "source": [
    "## Wrong Value"
   ]
  },
  {
   "attachments": {},
   "cell_type": "markdown",
   "metadata": {},
   "source": [
    "The way the algorithm was built, lines with missing values ​​can already be removed in cases where the number of items in a line is not equal to the number of columns."
   ]
  },
  {
   "attachments": {},
   "cell_type": "markdown",
   "metadata": {},
   "source": [
    "In **Apple Store** dataset we have 5 types of _rating_"
   ]
  },
  {
   "cell_type": "code",
   "execution_count": 760,
   "metadata": {},
   "outputs": [
    {
     "data": {
      "text/plain": [
       "[5, 6, 7, 8, 10]"
      ]
     },
     "execution_count": 760,
     "metadata": {},
     "output_type": "execute_result"
    }
   ],
   "source": [
    "[idx for idx, column in enumerate(data_applestore.columns) if \"rating\" in column]"
   ]
  },
  {
   "attachments": {},
   "cell_type": "markdown",
   "metadata": {},
   "source": [
    "They are:\n",
    "\n",
    "- `rating_count_tot` : User Rating counts (for all version)\n",
    "- `rating_count_ver` : User Rating counts (for current version)\n",
    "- `user_rating` : Average User Rating value (for all version)\n",
    "- `user_rating_ver` : Average User Rating value (for current version)\n",
    "- `cont_rating` : Content Rating\n",
    "\n",
    "`user_rating` and `user_rating_ver` are (float) values between 1 and 5. Let's see if all data fits in this case"
   ]
  },
  {
   "cell_type": "code",
   "execution_count": 761,
   "metadata": {},
   "outputs": [
    {
     "name": "stdout",
     "output_type": "stream",
     "text": [
      "=== Apple Store ===\n",
      "Total of Errors on column <user_rating> : 929\n",
      "Total of Errors on column <user_rating_ver> : 1443\n"
     ]
    }
   ],
   "source": [
    "print(\"=== Apple Store ===\")\n",
    "print(f\"Total of Errors on column <user_rating> : {count_wrong_user_ratings(data_applestore, 'user_rating')}\")\n",
    "print(f\"Total of Errors on column <user_rating_ver> : {count_wrong_user_ratings(data_applestore, 'user_rating_ver')}\")"
   ]
  },
  {
   "attachments": {},
   "cell_type": "markdown",
   "metadata": {},
   "source": [
    "So let's delete the wrong values from **Apple Store** dataset."
   ]
  },
  {
   "cell_type": "code",
   "execution_count": 762,
   "metadata": {},
   "outputs": [],
   "source": [
    "delete_wrong_user_ratings(data_applestore, \"user_rating\")\n",
    "delete_wrong_user_ratings(data_applestore, \"user_rating_ver\")"
   ]
  },
  {
   "cell_type": "code",
   "execution_count": 763,
   "metadata": {},
   "outputs": [
    {
     "name": "stdout",
     "output_type": "stream",
     "text": [
      "=== Apple Store ===\n",
      "Total of Errors on column <user_rating> : 0\n",
      "Total of Errors on column <user_rating_ver> : 0\n"
     ]
    }
   ],
   "source": [
    "print(\"=== Apple Store ===\")\n",
    "print(f\"Total of Errors on column <user_rating> : {count_wrong_user_ratings(data_applestore, 'user_rating')}\")\n",
    "print(f\"Total of Errors on column <user_rating_ver> : {count_wrong_user_ratings(data_applestore, 'user_rating_ver')}\")"
   ]
  },
  {
   "attachments": {},
   "cell_type": "markdown",
   "metadata": {},
   "source": [
    "In the two stores, the apps are rated between [1-5] points/stars."
   ]
  },
  {
   "attachments": {},
   "cell_type": "markdown",
   "metadata": {},
   "source": [
    "In **Play Store** dataset we have 1 rating called `Rating`"
   ]
  },
  {
   "cell_type": "code",
   "execution_count": 764,
   "metadata": {},
   "outputs": [
    {
     "name": "stdout",
     "output_type": "stream",
     "text": [
      "=== Play Store ===\n",
      "Total of Errors on column <Rating> : 0\n"
     ]
    }
   ],
   "source": [
    "print(\"=== Play Store ===\")\n",
    "print(f\"Total of Errors on column <Rating> : {count_wrong_user_ratings(data_playstore, 'Rating')}\")"
   ]
  },
  {
   "attachments": {},
   "cell_type": "markdown",
   "metadata": {},
   "source": [
    "## Duplicates"
   ]
  },
  {
   "attachments": {},
   "cell_type": "markdown",
   "metadata": {},
   "source": [
    "Let's check if we have duplicates by app name"
   ]
  },
  {
   "cell_type": "code",
   "execution_count": 765,
   "metadata": {},
   "outputs": [
    {
     "name": "stdout",
     "output_type": "stream",
     "text": [
      "Mannequin Challenge : 2\n",
      "VR Roller Coaster : 2\n",
      "Facebook : 1\n",
      "Instagram : 1\n",
      "Clash of Clans : 1\n",
      "Temple Run : 1\n",
      "Pandora - Music & Radio : 1\n",
      "Pinterest : 1\n",
      "Bible : 1\n",
      "Candy Crush Saga : 1\n"
     ]
    }
   ],
   "source": [
    "freq_applestore = fpd.generate_frequency_dict(data_applestore, \"track_name\", sorted_dict=True)\n",
    "freq_applestore_filtered_dict = filter_dict(freq_applestore, 10)\n",
    "\n",
    "print_items_in_dict(freq_applestore_filtered_dict, 10)"
   ]
  },
  {
   "cell_type": "code",
   "execution_count": 766,
   "metadata": {},
   "outputs": [
    {
     "name": "stdout",
     "output_type": "stream",
     "text": [
      "ROBLOX : 9\n",
      "CBS Sports App - Scores, News, Stats & Watch Live : 8\n",
      "Duolingo: Learn Languages Free : 7\n",
      "Candy Crush Saga : 7\n",
      "8 Ball Pool : 7\n",
      "ESPN : 7\n",
      "Nick : 6\n",
      "Subway Surfers : 6\n",
      "Bubble Shooter : 6\n",
      "slither.io : 6\n"
     ]
    }
   ],
   "source": [
    "freq_playstore = fpd.generate_frequency_dict(data_playstore, \"App\", sorted_dict=True)\n",
    "freq_playstore_filtered_dict = filter_dict(freq_playstore, 10)\n",
    "\n",
    "print_items_in_dict(freq_playstore_filtered_dict, 10)"
   ]
  },
  {
   "attachments": {},
   "cell_type": "markdown",
   "metadata": {},
   "source": [
    "As seen, we have duplicated data in both databases. In this case, i will delete them."
   ]
  },
  {
   "cell_type": "code",
   "execution_count": 767,
   "metadata": {},
   "outputs": [
    {
     "name": "stdout",
     "output_type": "stream",
     "text": [
      "Facebook : 1\n",
      "Instagram : 1\n",
      "Clash of Clans : 1\n",
      "Temple Run : 1\n",
      "Pandora - Music & Radio : 1\n",
      "Pinterest : 1\n",
      "Bible : 1\n",
      "Candy Crush Saga : 1\n",
      "Spotify Music : 1\n",
      "Angry Birds : 1\n"
     ]
    }
   ],
   "source": [
    "delete_duplicates_by_app_name(data_applestore, \"track_name\")\n",
    "\n",
    "freq_applestore = fpd.generate_frequency_dict(data_applestore, \"track_name\", sorted_dict=True)\n",
    "freq_applestore_filtered_dict = filter_dict(freq_applestore, 10)\n",
    "\n",
    "print_items_in_dict(freq_applestore_filtered_dict, 10)"
   ]
  },
  {
   "cell_type": "code",
   "execution_count": 768,
   "metadata": {},
   "outputs": [
    {
     "name": "stdout",
     "output_type": "stream",
     "text": [
      "Photo Editor & Candy Camera & Grid & ScrapBook : 1\n",
      "Coloring book moana : 1\n",
      "U Launcher Lite – FREE Live Cool Themes, Hide Apps : 1\n",
      "Sketch - Draw & Paint : 1\n",
      "Pixel Draw - Number Art Coloring Book : 1\n",
      "Paper flowers instructions : 1\n",
      "Smoke Effect Photo Maker - Smoke Editor : 1\n",
      "Infinite Painter : 1\n",
      "Garden Coloring Book : 1\n",
      "Kids Paint Free - Drawing Fun : 1\n"
     ]
    }
   ],
   "source": [
    "delete_duplicates_by_app_name(data_playstore, \"App\")\n",
    "\n",
    "freq_playstore = fpd.generate_frequency_dict(data_playstore, \"App\", sorted_dict=True)\n",
    "freq_playstore_filtered_dict = filter_dict(freq_playstore, 10)\n",
    "\n",
    "print_items_in_dict(freq_playstore_filtered_dict, 10)"
   ]
  },
  {
   "attachments": {},
   "cell_type": "markdown",
   "metadata": {},
   "source": [
    "## Non-English Apps"
   ]
  },
  {
   "attachments": {},
   "cell_type": "markdown",
   "metadata": {},
   "source": [
    "In the databases we have apps that are no directed toward an English-speaking audience."
   ]
  },
  {
   "cell_type": "code",
   "execution_count": 769,
   "metadata": {},
   "outputs": [
    {
     "name": "stdout",
     "output_type": "stream",
     "text": [
      "['405667771', '聚力视频HD-人民的名义,跨界歌王全网热播', '90725376', 'USD', '0.0', '7446', '8', '4.0', '4.5', '5.0.8', '12+', 'Entertainment', '24', '4', '1', '1']\n"
     ]
    }
   ],
   "source": [
    "for idx, app_name in enumerate(data_applestore[\"track_name\"]):\n",
    "  if not is_english(app_name):\n",
    "    print(data_applestore.get_row(idx))\n",
    "\n",
    "    break"
   ]
  },
  {
   "cell_type": "code",
   "execution_count": 770,
   "metadata": {},
   "outputs": [
    {
     "name": "stdout",
     "output_type": "stream",
     "text": [
      "['Flame - درب عقلك يوميا', 'EDUCATION', '4.6', '56065', '37M', '1,000,000+', 'Free', '0', 'Everyone', 'Education', 'July 26, 2018', '3.3', '4.1 and up']\n"
     ]
    }
   ],
   "source": [
    "for idx, app_name in enumerate(data_playstore[\"App\"]):\n",
    "  if not is_english(app_name):\n",
    "    print(data_playstore.get_row(idx))\n",
    "\n",
    "    break"
   ]
  },
  {
   "attachments": {},
   "cell_type": "markdown",
   "metadata": {},
   "source": [
    "Let's delete this apps."
   ]
  },
  {
   "cell_type": "code",
   "execution_count": 771,
   "metadata": {},
   "outputs": [],
   "source": [
    "delete_non_english_apps(data_applestore, \"track_name\")\n",
    "delete_non_english_apps(data_playstore, \"App\")"
   ]
  },
  {
   "attachments": {},
   "cell_type": "markdown",
   "metadata": {},
   "source": [
    "# Isolating Free Apps"
   ]
  },
  {
   "attachments": {},
   "cell_type": "markdown",
   "metadata": {},
   "source": [
    "As said in the introduction of this jupyter notebook, the goal is to search based on free apps."
   ]
  },
  {
   "cell_type": "code",
   "execution_count": 772,
   "metadata": {},
   "outputs": [],
   "source": [
    "deleting_paid_apps(data_applestore, \"price\")\n",
    "deleting_paid_apps(data_playstore, \"Price\")"
   ]
  },
  {
   "attachments": {},
   "cell_type": "markdown",
   "metadata": {},
   "source": [
    "Now, for the analysis, we have:"
   ]
  },
  {
   "cell_type": "code",
   "execution_count": 773,
   "metadata": {},
   "outputs": [
    {
     "name": "stdout",
     "output_type": "stream",
     "text": [
      "2863 Apple Store apps\n",
      "8862 Play Store apps\n"
     ]
    }
   ],
   "source": [
    "print(f\"{data_applestore.shape[0]} Apple Store apps\")\n",
    "print(f\"{data_playstore.shape[0]} Play Store apps\")"
   ]
  },
  {
   "attachments": {},
   "cell_type": "markdown",
   "metadata": {},
   "source": [
    "# Most Common Apps by Genre/Category"
   ]
  },
  {
   "attachments": {},
   "cell_type": "markdown",
   "metadata": {},
   "source": [
    "Another way to focus efforts on a specific group of apps is to filter the datasets by genre/category"
   ]
  },
  {
   "cell_type": "code",
   "execution_count": 774,
   "metadata": {},
   "outputs": [],
   "source": [
    "PERCENTAGE = 0.8"
   ]
  },
  {
   "cell_type": "code",
   "execution_count": 775,
   "metadata": {},
   "outputs": [],
   "source": [
    "data_applestore_genres = fpd.generate_frequency_dict(data_applestore, \"prime_genre\", sorted_dict=True)"
   ]
  },
  {
   "cell_type": "code",
   "execution_count": 776,
   "metadata": {},
   "outputs": [
    {
     "name": "stdout",
     "output_type": "stream",
     "text": [
      "Games : 1735\n",
      "Entertainment : 228\n",
      "Photo & Video : 131\n",
      "Education : 95\n",
      "Social Networking : 85\n",
      "Shopping : 71\n",
      "Utilities : 67\n",
      "Music : 64\n",
      "Health & Fitness : 55\n",
      "Sports : 55\n",
      "Productivity : 50\n",
      "Lifestyle : 44\n",
      "News : 31\n",
      "Travel : 28\n",
      "Finance : 28\n",
      "Food & Drink : 23\n",
      "Weather : 22\n",
      "Reference : 16\n",
      "Business : 13\n",
      "Book : 10\n",
      "Navigation : 4\n",
      "Catalogs : 4\n",
      "Medical : 4\n"
     ]
    }
   ],
   "source": [
    "print_items_in_dict(data_applestore_genres)"
   ]
  },
  {
   "cell_type": "code",
   "execution_count": 777,
   "metadata": {},
   "outputs": [
    {
     "name": "stdout",
     "output_type": "stream",
     "text": [
      "These apps genres represent 82.0% of Apple Store Dataset:\n",
      "\n",
      "Games : 60.6%\n",
      "Entertainment : 7.96%\n",
      "Photo & Video : 4.58%\n",
      "Education : 3.32%\n",
      "Social Networking : 2.97%\n",
      "Shopping : 2.48%\n"
     ]
    }
   ],
   "source": [
    "best_genres_percentage, data_applestore_best_genres = get_best_freq(data_applestore_genres, percentage=PERCENTAGE, size=data_applestore.shape[0])\n",
    "\n",
    "print(f\"These apps genres represent {round(best_genres_percentage, 2) * 100}% of Apple Store Dataset:\\n\")\n",
    "print_items_in_dict(data_applestore_best_genres)\n"
   ]
  },
  {
   "cell_type": "code",
   "execution_count": 778,
   "metadata": {},
   "outputs": [],
   "source": [
    "data_playstore_genres     = fpd.generate_frequency_dict(data_playstore, \"Genres\", sorted_dict=True)\n",
    "data_playstore_categories = fpd.generate_frequency_dict(data_playstore, \"Category\", sorted_dict=True)"
   ]
  },
  {
   "cell_type": "code",
   "execution_count": 779,
   "metadata": {},
   "outputs": [
    {
     "name": "stdout",
     "output_type": "stream",
     "text": [
      "Tools : 747\n",
      "Entertainment : 538\n",
      "Education : 474\n",
      "Business : 407\n",
      "Lifestyle : 345\n",
      "Productivity : 345\n",
      "Finance : 328\n",
      "Medical : 312\n",
      "Sports : 307\n",
      "Personalization : 294\n",
      "Communication : 287\n",
      "Action : 275\n",
      "Health & Fitness : 273\n",
      "Photography : 261\n",
      "News & Magazines : 248\n",
      "Social : 236\n",
      "Travel & Local : 206\n",
      "Shopping : 199\n",
      "Books & Reference : 190\n",
      "Simulation : 181\n"
     ]
    }
   ],
   "source": [
    "print_items_in_dict(data_playstore_genres, 20)"
   ]
  },
  {
   "cell_type": "code",
   "execution_count": 780,
   "metadata": {},
   "outputs": [
    {
     "name": "stdout",
     "output_type": "stream",
     "text": [
      "These apps genres represent 80.0% of Play Store Dataset:\n",
      "\n",
      "Tools : 8.43%\n",
      "Entertainment : 6.07%\n",
      "Education : 5.35%\n",
      "Business : 4.59%\n",
      "Lifestyle : 3.89%\n",
      "Productivity : 3.89%\n",
      "Finance : 3.7%\n",
      "Medical : 3.52%\n",
      "Sports : 3.46%\n",
      "Personalization : 3.32%\n",
      "Communication : 3.24%\n",
      "Action : 3.1%\n",
      "Health & Fitness : 3.08%\n",
      "Photography : 2.95%\n",
      "News & Magazines : 2.8%\n",
      "Social : 2.66%\n",
      "Travel & Local : 2.32%\n",
      "Shopping : 2.25%\n",
      "Books & Reference : 2.14%\n",
      "Simulation : 2.04%\n",
      "Dating : 1.86%\n",
      "Arcade : 1.85%\n",
      "Video Players & Editors : 1.77%\n",
      "Casual : 1.76%\n"
     ]
    }
   ],
   "source": [
    "best_genres_percentage, data_playstore_best_genres = get_best_freq(data_playstore_genres, percentage=PERCENTAGE, size=data_playstore.shape[0])\n",
    "\n",
    "print(f\"These apps genres represent {round(best_genres_percentage, 2) * 100}% of Play Store Dataset:\\n\")\n",
    "print_items_in_dict(data_playstore_best_genres)"
   ]
  },
  {
   "cell_type": "code",
   "execution_count": 781,
   "metadata": {},
   "outputs": [
    {
     "name": "stdout",
     "output_type": "stream",
     "text": [
      "FAMILY : 1635\n",
      "GAME : 875\n",
      "TOOLS : 748\n",
      "BUSINESS : 407\n",
      "LIFESTYLE : 346\n",
      "PRODUCTIVITY : 345\n",
      "FINANCE : 328\n",
      "MEDICAL : 312\n",
      "SPORTS : 301\n",
      "PERSONALIZATION : 294\n",
      "COMMUNICATION : 287\n",
      "HEALTH_AND_FITNESS : 273\n",
      "PHOTOGRAPHY : 261\n",
      "NEWS_AND_MAGAZINES : 248\n",
      "SOCIAL : 236\n",
      "TRAVEL_AND_LOCAL : 207\n",
      "SHOPPING : 199\n",
      "BOOKS_AND_REFERENCE : 190\n",
      "DATING : 165\n",
      "VIDEO_PLAYERS : 158\n"
     ]
    }
   ],
   "source": [
    "print_items_in_dict(data_playstore_categories, 20)"
   ]
  },
  {
   "cell_type": "code",
   "execution_count": 782,
   "metadata": {},
   "outputs": [
    {
     "name": "stdout",
     "output_type": "stream",
     "text": [
      "These apps categories represent 80.0% of Play Store Dataset:\n",
      "\n",
      "FAMILY : 18.45%\n",
      "GAME : 9.87%\n",
      "TOOLS : 8.44%\n",
      "BUSINESS : 4.59%\n",
      "LIFESTYLE : 3.9%\n",
      "PRODUCTIVITY : 3.89%\n",
      "FINANCE : 3.7%\n",
      "MEDICAL : 3.52%\n",
      "SPORTS : 3.4%\n",
      "PERSONALIZATION : 3.32%\n",
      "COMMUNICATION : 3.24%\n",
      "HEALTH_AND_FITNESS : 3.08%\n",
      "PHOTOGRAPHY : 2.95%\n",
      "NEWS_AND_MAGAZINES : 2.8%\n",
      "SOCIAL : 2.66%\n",
      "TRAVEL_AND_LOCAL : 2.34%\n"
     ]
    }
   ],
   "source": [
    "best_categories_percentage, data_playstore_best_categories = get_best_freq(data_playstore_categories, percentage=PERCENTAGE, size=data_playstore.shape[0])\n",
    "\n",
    "print(f\"These apps categories represent {round(best_categories_percentage, 2) * 100}% of Play Store Dataset:\\n\")\n",
    "print_items_in_dict(data_playstore_best_categories)"
   ]
  },
  {
   "attachments": {},
   "cell_type": "markdown",
   "metadata": {},
   "source": [
    "In the case of Play Store Dataset, we have the information of `Installs` (Number of user downloads/installs for the app). If we are interested in focusing on a specific range of downloads (generally the largest possible amount), we can filter by that column and discover the genres we should focus on to display ads."
   ]
  },
  {
   "cell_type": "code",
   "execution_count": 783,
   "metadata": {},
   "outputs": [
    {
     "data": {
      "text/plain": [
       "['10,000+',\n",
       " '500,000+',\n",
       " '5,000,000+',\n",
       " '50,000,000+',\n",
       " '100,000+',\n",
       " '50,000+',\n",
       " '1,000,000+',\n",
       " '10,000,000+',\n",
       " '5,000+',\n",
       " '100,000,000+',\n",
       " '1,000,000,000+',\n",
       " '1,000+',\n",
       " '500,000,000+',\n",
       " '500+',\n",
       " '100+',\n",
       " '50+',\n",
       " '10+',\n",
       " '1+',\n",
       " '5+',\n",
       " '0+',\n",
       " '0']"
      ]
     },
     "execution_count": 783,
     "metadata": {},
     "output_type": "execute_result"
    }
   ],
   "source": [
    "list(fpd.generate_frequency_dict(data_playstore, \"Installs\").keys())"
   ]
  },
  {
   "cell_type": "code",
   "execution_count": 784,
   "metadata": {},
   "outputs": [],
   "source": [
    "INSTALLS = '1,000,000,000+'"
   ]
  },
  {
   "cell_type": "code",
   "execution_count": 785,
   "metadata": {},
   "outputs": [],
   "source": [
    "data = []\n",
    "\n",
    "for idx, value in enumerate(data_playstore[\"Installs\"]):\n",
    "  if value == INSTALLS:\n",
    "    data.append(data_playstore.get_row(idx))\n",
    "\n",
    "filtered_dataset = fpd.DataSet(columns=data_playstore.columns, data=data)\n",
    "      "
   ]
  },
  {
   "cell_type": "code",
   "execution_count": 786,
   "metadata": {},
   "outputs": [
    {
     "name": "stdout",
     "output_type": "stream",
     "text": [
      "Communication : 6\n",
      "Social : 3\n",
      "Travel & Local : 2\n",
      "Video Players & Editors : 2\n",
      "Books & Reference : 1\n",
      "Entertainment : 1\n",
      "Arcade : 1\n",
      "Photography : 1\n",
      "Tools : 1\n",
      "Productivity : 1\n",
      "News & Magazines : 1\n"
     ]
    }
   ],
   "source": [
    "filtered_dataset_genres = fpd.generate_frequency_dict(filtered_dataset, \"Genres\", sorted_dict=True)\n",
    "\n",
    "print_items_in_dict(filtered_dataset_genres)"
   ]
  },
  {
   "attachments": {},
   "cell_type": "markdown",
   "metadata": {},
   "source": [
    "# Conclusions"
   ]
  },
  {
   "attachments": {},
   "cell_type": "markdown",
   "metadata": {},
   "source": [
    "This Jupyter Notebook was able to show that with simple operations we can extract insights from databases.\n",
    "\n",
    "In the end, it was possible to generate information to meet our initial needs in this Jupyter Notebook"
   ]
  }
 ],
 "metadata": {
  "kernelspec": {
   "display_name": "venv",
   "language": "python",
   "name": "python3"
  },
  "language_info": {
   "codemirror_mode": {
    "name": "ipython",
    "version": 3
   },
   "file_extension": ".py",
   "mimetype": "text/x-python",
   "name": "python",
   "nbconvert_exporter": "python",
   "pygments_lexer": "ipython3",
   "version": "3.10.6"
  },
  "orig_nbformat": 4
 },
 "nbformat": 4,
 "nbformat_minor": 2
}
