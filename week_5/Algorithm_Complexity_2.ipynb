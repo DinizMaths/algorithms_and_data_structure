{
 "cells": [
  {
   "attachments": {},
   "cell_type": "markdown",
   "metadata": {},
   "source": [
    "# Algorithms Complexity 2"
   ]
  },
  {
   "attachments": {},
   "cell_type": "markdown",
   "metadata": {},
   "source": [
    "Continuation of [Algorithm Complexity 1](./Algorithm_Complexity_1.ipynb)"
   ]
  },
  {
   "attachments": {},
   "cell_type": "markdown",
   "metadata": {},
   "source": [
    "## O(NM)"
   ]
  },
  {
   "cell_type": "code",
   "execution_count": null,
   "metadata": {},
   "outputs": [],
   "source": [
    "def intersection(arr1, arr2):\n",
    "  for elem in arr1:\n",
    "    if elem in arr2:\n",
    "      print(elem)"
   ]
  },
  {
   "attachments": {},
   "cell_type": "markdown",
   "metadata": {},
   "source": [
    "```python\n",
    "def intersection(arr1, arr2):\n",
    "  for elem in arr1:   # (C1, N)\n",
    "    if elem in arr2:  # (C2, (N * M))\n",
    "      print(elem)     # (C3, (N * M))\n",
    "```\n",
    "\n",
    "$C_1 \\cdot N + C_2 \\cdot N \\cdot M + C_3 \\cdot N \\cdot M = C_1 \\cdot N + (C_2 + C_3) \\cdot M$\n",
    "\n",
    "$\\alpha = (C_2 + C_3)$\n",
    "\n",
    "$\\beta = C_1$\n",
    "\n",
    "$f(N) = \\alpha \\cdot N \\cdot M + \\beta \\cdot M$\n",
    "\n",
    "So we have a function **O(NM)**\n"
   ]
  },
  {
   "attachments": {},
   "cell_type": "markdown",
   "metadata": {},
   "source": [
    "## O(N + M)"
   ]
  },
  {
   "attachments": {},
   "cell_type": "markdown",
   "metadata": {},
   "source": [
    "```python\n",
    "def both_contain(arr1, arr2, k):\n",
    "  return k in arr1 and k in arr2  # (C1, (N + M))\n",
    "```\n",
    "Function **O(N + M)**\n"
   ]
  },
  {
   "attachments": {},
   "cell_type": "markdown",
   "metadata": {},
   "source": [
    "## O(logN)"
   ]
  },
  {
   "attachments": {},
   "cell_type": "markdown",
   "metadata": {},
   "source": [
    "```python\n",
    "def foo(n):\n",
    "  i = 1         # (C1, 1)\n",
    "\n",
    "  while i < n:  # (C2, 2^k)\n",
    "    i *= 2\n",
    "```\n",
    "\n",
    "`i = [1, 2, 4, 8, 16, ..., N]` $\\rightarrow$ `i = [1, 2, 2*2, 2*2*2, 2*2*2*2, ..., N]`\n",
    "\n",
    "$2^k = N \\rightarrow log(2^k) = log(N) \\rightarrow k = log(N)$"
   ]
  },
  {
   "attachments": {},
   "cell_type": "markdown",
   "metadata": {},
   "source": [
    "## O($min$(N, M))"
   ]
  },
  {
   "attachments": {},
   "cell_type": "markdown",
   "metadata": {},
   "source": [
    "```python\n",
    "def where_equal(str1, str2):\n",
    "  indexes = []                            # (C1, 1)\n",
    "  i = 0                                   # (C2, 1)\n",
    "\n",
    "  while i < len(str1) and i < len(str2):  # (C3, min(N, M))\n",
    "    if str1[i] == str2[i]:                # (C4, min(N, M))\n",
    "      indexes.append(i)                   # (C5, min(N, M))\n",
    "    \n",
    "    i += 1                                # (C6, min(N, M))\n",
    "  \n",
    "  return indexes                          # (C7, 1)\n",
    "```\n",
    "\n",
    "The number of times in wile loop will be the less value between `len(str1)` and `len(str2)`, **O(min(N, M))**"
   ]
  },
  {
   "attachments": {},
   "cell_type": "markdown",
   "metadata": {},
   "source": [
    "## O($max$(N, M))"
   ]
  },
  {
   "attachments": {},
   "cell_type": "markdown",
   "metadata": {},
   "source": [
    "```python\n",
    "def where_equal(str1, str2):\n",
    "  indexes = []                           # (C1, 1)\n",
    "  i = 0                                  # (C2, 1)\n",
    "\n",
    "  while i < len(str1) or i < len(str2):  # (C3, max(N, M))\n",
    "    if str1[i] == str2[i]:               # (C4, max(N, M))\n",
    "      indexes.append(i)                  # (C5, max(N, M))\n",
    "    \n",
    "    i += 1                               # (C6, max(N, M))\n",
    "  \n",
    "  return indexes                         # (C7, 1)\n",
    "```\n"
   ]
  }
 ],
 "metadata": {
  "language_info": {
   "name": "python"
  },
  "orig_nbformat": 4
 },
 "nbformat": 4,
 "nbformat_minor": 2
}
