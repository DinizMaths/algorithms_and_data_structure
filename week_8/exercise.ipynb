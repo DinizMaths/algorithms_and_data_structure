{
  "cells": [
    {
      "cell_type": "code",
      "execution_count": 35,
      "metadata": {},
      "outputs": [],
      "source": [
        "import numpy    as np\n",
        "import networkx as nx\n",
        "import gdown\n",
        "\n",
        "import matplotlib.pyplot as plt"
      ]
    },
    {
      "cell_type": "code",
      "execution_count": 36,
      "metadata": {},
      "outputs": [
        {
          "name": "stderr",
          "output_type": "stream",
          "text": [
            "Downloading...\n",
            "From: https://drive.google.com/uc?id=14AMuGDPHac7FOOr7Stw2Jh-l-IWb7n8D\n",
            "To: /home/matheus/Desktop/UFRN/MATERIAS/ENG COMP/2 - SEMESTRE/AED 2/algorithms_and_data_structure/week_8/friends.adjlist\n",
            "100%|██████████| 109/109 [00:00<00:00, 267kB/s]\n"
          ]
        },
        {
          "data": {
            "text/plain": [
              "'friends.adjlist'"
            ]
          },
          "execution_count": 36,
          "metadata": {},
          "output_type": "execute_result"
        }
      ],
      "source": [
        "url    = 'https://drive.google.com/uc?id=14AMuGDPHac7FOOr7Stw2Jh-l-IWb7n8D'\n",
        "output = 'friends.adjlist'\n",
        "\n",
        "gdown.download(url, output, quiet=False)"
      ]
    },
    {
      "attachments": {},
      "cell_type": "markdown",
      "metadata": {
        "id": "YGoGFx3lWBbJ"
      },
      "source": [
        "# Student Identification\n",
        "\n",
        "- Full Name 01: **Matheus Gomes Diniz Andrade** "
      ]
    },
    {
      "attachments": {},
      "cell_type": "markdown",
      "metadata": {
        "id": "0vUTEVI2SSAQ"
      },
      "source": [
        "# Exercise Q&A (1,00 point for grade in Unit 02)"
      ]
    },
    {
      "attachments": {},
      "cell_type": "markdown",
      "metadata": {
        "id": "tG_xFopi_wpj"
      },
      "source": [
        "## Question 01"
      ]
    },
    {
      "attachments": {},
      "cell_type": "markdown",
      "metadata": {
        "id": "rtVDKKTDGCND"
      },
      "source": [
        "Consider a network with *N* nodes. Given a single link, what is the maximum number of nodes that link can connect? Given a single node, what is the maximum number of links that can connect to that node?"
      ]
    },
    {
      "attachments": {},
      "cell_type": "markdown",
      "metadata": {
        "id": "3n2EjOMmHMuI"
      },
      "source": [
        "<span style=\"color: #7EFFA2\">Answer: </span>"
      ]
    },
    {
      "attachments": {},
      "cell_type": "markdown",
      "metadata": {},
      "source": [
        "### Question 01.1\n",
        "Given a **single** link, the maximum number of nodes that we can put is **2**.\n",
        "\n",
        "<img width=300 src=\"../images/week_8_Q1_1.png\">"
      ]
    },
    {
      "attachments": {},
      "cell_type": "markdown",
      "metadata": {},
      "source": [
        "### Question 01.2\n",
        "\n",
        "Given a **single** node, the maximum number of links that we can put is **N**.\n",
        "\n",
        "<img width=250 src=\"../images/week_8_Q1_2.png\">\n",
        "\n",
        "But in the case that we have the possibility of multiplicity like this:\n",
        "\n",
        "<img width=250 src=\"../images/week_8_Q1_3.png\">\n",
        "\n",
        "It's not possible to determinate the max number without other informations"
      ]
    },
    {
      "attachments": {},
      "cell_type": "markdown",
      "metadata": {
        "id": "uQPRLZUXHRFc"
      },
      "source": [
        "## Question 02"
      ]
    },
    {
      "attachments": {},
      "cell_type": "markdown",
      "metadata": {
        "id": "FnKLHki-Hay_"
      },
      "source": [
        "\n",
        "<center><img width=\"600\" src=\"https://drive.google.com/uc?export=view&id=1Y42-c3Pq1XoszEEvYsZFdr3GccAqp7l_\"></center>\n",
        "<center><b>Figure 1</b>: Map of New York in 1880. From Report on the Social Statistics of Cities, Compiled by George E. Waring, Jr., U.S. Census Office, 1886. Image courtesy of University of Texas Libraries. <br></center>\n",
        "\n",
        "\n",
        "Consider the road map in Figure 1. The grid-like structure of this network means that most nodes have the same degree. What is the most common degree for nodes in this network?\n",
        "\n"
      ]
    },
    {
      "attachments": {},
      "cell_type": "markdown",
      "metadata": {
        "id": "DtBZnm2OHgaI"
      },
      "source": [
        "<span style=\"color: #7EFFA2\">Answer: </span>\n",
        "\n",
        "The **degree** of a node is the number of **edges/links** connected. If we consider a grid like this:\n",
        "\n",
        "<img width=500 src=\"../images/week_8_Q2.png\">\n",
        "\n",
        "The most common degree is **4**"
      ]
    },
    {
      "attachments": {},
      "cell_type": "markdown",
      "metadata": {
        "id": "pyOgImYmJsh3"
      },
      "source": [
        "## Question 03"
      ]
    },
    {
      "attachments": {},
      "cell_type": "markdown",
      "metadata": {
        "id": "17qGjrMHJvZ7"
      },
      "source": [
        "Consider the road map in Figure 1. Manhattan has a lot of one-way streets. This implies that a good network model of traffic flow would probably have directed links. Consider a subgraph of this network with grid-like connectivity and all one-way streets (i.e. each node is a four-way intersection of two one-way streets). What is the most common in-degree of nodes in this subgraph? What is the most common out-degree?"
      ]
    },
    {
      "attachments": {},
      "cell_type": "markdown",
      "metadata": {
        "id": "71j_C-55KIVC"
      },
      "source": [
        "<span style=\"color: #7EFFA2\">Answer: </span>\n",
        "\n",
        "Considering something like this:\n",
        "\n",
        "<img width=150 src=\"../images/week_8_Q3.png\">\n",
        "\n",
        "We have:\n",
        "- In-degree: 2\n",
        "- Out-degree: 2"
      ]
    },
    {
      "attachments": {},
      "cell_type": "markdown",
      "metadata": {
        "id": "6ajWuuasKLQ_"
      },
      "source": [
        "## Question 04"
      ]
    },
    {
      "attachments": {},
      "cell_type": "markdown",
      "metadata": {
        "id": "ylQ51DMWKZxC"
      },
      "source": [
        "What network quantity can we use to represent the volume of traffic between each pair of adjacent intersections in the Manhattan road map (Figure 1)?"
      ]
    },
    {
      "attachments": {},
      "cell_type": "markdown",
      "metadata": {
        "id": "oE9sJ1mWKcF0"
      },
      "source": [
        "<span style=\"color: #7EFFA2\">Answer: </span>\n",
        "\n",
        "We can use a weighted graph network, so the **weights** can represents the volume of traffic.\n",
        "\n",
        "<img src=\"../images/week_8_Q4.png\">"
      ]
    },
    {
      "attachments": {},
      "cell_type": "markdown",
      "metadata": {
        "id": "udxnPkItKfX3"
      },
      "source": [
        "## Question 05"
      ]
    },
    {
      "attachments": {},
      "cell_type": "markdown",
      "metadata": {
        "id": "fj7f0HL7KtOy"
      },
      "source": [
        "Consider a directed network of N nodes. Now consider the total in-degree (i.e. the sum of the in-degree over all nodes in the network). Compare this to the analogous total out-degree. Which of the following must hold true for any such network?\n",
        "\n",
        "1. Total in-degree must be less than total out-degree\n",
        "2. Total in-degree must be greater than total out-degree\n",
        "3. Total in-degree must be equal to total out-degree\n",
        "4. None of these hold true in all instances"
      ]
    },
    {
      "attachments": {},
      "cell_type": "markdown",
      "metadata": {
        "id": "4P5ThuVNK3Ug"
      },
      "source": [
        "<span style=\"color: #7EFFA2\">Answer: </span>\n",
        "\n",
        "Given a directed graph $G$ where $G = \\{(u_1, v_1), (u_2, v_2), \\cdots, (u_i, v_j), \\cdots  \\}$\n",
        "\n",
        "So $(u_i, v_j) \\in G$ for $i, j \\in \\mathbb{N}$\n",
        "\n",
        "For each **link** $(u_i, v_j)$ we sum 1 for the total of in-degree (for $v_j$) and 1 for the total of out-degree (for $u_i$). In other words:\n",
        "\n",
        "$\\sum^N_{j=1} deg_{in}(v_j) = \\sum^N_{i=1} deg_{out}(u_i)$\n",
        "\n",
        "<ins>The total in-degree must be equal to total out-degree</ins>, **3** is correct."
      ]
    },
    {
      "attachments": {},
      "cell_type": "markdown",
      "metadata": {
        "id": "QPVskC76LUtF"
      },
      "source": [
        "## Question 06"
      ]
    },
    {
      "attachments": {},
      "cell_type": "markdown",
      "metadata": {
        "id": "A1TqNt5nLZkU"
      },
      "source": [
        "Consider a Twitter retweet network, where users are nodes and we want to show how many times a given user has retweeted another user. What link type best captures this relation?\n",
        "\n",
        "1. Undirected, unweighted\n",
        "2. Undirected, weighted\n",
        "3. Directed, unweighted\n",
        "4. Directed, weighted"
      ]
    },
    {
      "attachments": {},
      "cell_type": "markdown",
      "metadata": {
        "id": "yJNqiQJ5LkFy"
      },
      "source": [
        "<span style=\"color: #7EFFA2\">Answer: </span>\n",
        "\n",
        "If we have the following case:\n",
        "\n",
        "<img width=600 src=\"../images/week_8_Q6_1.png\">\n",
        "\n",
        "We can represents a relation like this:\n",
        "\n",
        "<img width=300 src=\"../images/week_8_Q6_2.png\">\n",
        "\n",
        "That is <ins>Directed, weighted</ins>, **4** is correct."
      ]
    },
    {
      "attachments": {},
      "cell_type": "markdown",
      "metadata": {
        "id": "ZT5mLS7-Lsb2"
      },
      "source": [
        "## Question 07"
      ]
    },
    {
      "attachments": {},
      "cell_type": "markdown",
      "metadata": {
        "id": "ofRy-TURMLix"
      },
      "source": [
        "Consider a hashtag co-occurrence graph from Twitter. In this network, hashtags are the nodes, and a link between two hashtags indicates how often those two hashtags appear in tweets together. What link type would best capture this relation?\n",
        "\n",
        "1. Undirected, unweighted\n",
        "2. Undirected, weighted\n",
        "3. Directed, unweighted\n",
        "4. Directed, weighted"
      ]
    },
    {
      "attachments": {},
      "cell_type": "markdown",
      "metadata": {
        "id": "8H7AiKavMQsT"
      },
      "source": [
        "<span style=\"color: #7EFFA2\">Answer: </span>\n",
        "\n",
        "If we have the following case:\n",
        "\n",
        "<img width=600 src=\"../images/week_8_Q7_1.png\">\n",
        "\n",
        "We can represents a relation btween the hashtags like this:\n",
        "\n",
        "<img width=300 src=\"../images/week_8_Q7_2.png\">\n",
        "\n",
        "Where:\n",
        "- H1: #datastructure\n",
        "- H2: #science\n",
        "- H3: #math\n",
        "- H4: #programming\n",
        "\n",
        "So the answer is <ins>Undirected, weighted</ins>, **2** is correct."
      ]
    },
    {
      "attachments": {},
      "cell_type": "markdown",
      "metadata": {
        "id": "4-bIhQwpMVs3"
      },
      "source": [
        "## Question 08"
      ]
    },
    {
      "attachments": {},
      "cell_type": "markdown",
      "metadata": {
        "id": "9SVLykJ6M5lM"
      },
      "source": [
        "Consider a network created from characters in a story or play. The nodes are people, and a link exists between two nodes if those characters ever engage in dialogue. Which type of edge could represent this relation? Justify your answer.\n",
        "\n",
        "1. Undirected, unweighted\n",
        "2. Undirected, weighted\n",
        "3. Directed, unweighted\n",
        "4. Directed, weighted"
      ]
    },
    {
      "attachments": {},
      "cell_type": "markdown",
      "metadata": {
        "id": "FnvkcRD-M8eq"
      },
      "source": [
        "<span style=\"color: #7EFFA2\">Answer: </span>"
      ]
    },
    {
      "attachments": {},
      "cell_type": "markdown",
      "metadata": {
        "id": "S4Ga_yyYNBBo"
      },
      "source": [
        "## Question 09"
      ]
    },
    {
      "attachments": {},
      "cell_type": "markdown",
      "metadata": {
        "id": "1_z4ApdLNa6a"
      },
      "source": [
        "Suppose we want to make a more complex version of a dialog network that captures how much each character speaks and to whom. What type of link would best represent this relation?\n",
        "\n",
        "1. Undirected, unweighted\n",
        "2. Undirected, weighted\n",
        "3. Directed, unweighted\n",
        "4. Directed, weighted"
      ]
    },
    {
      "attachments": {},
      "cell_type": "markdown",
      "metadata": {
        "id": "urjFC0KTNefy"
      },
      "source": [
        "<span style=\"color: #7EFFA2\">Answer: </span>\n",
        "\n",
        "The link will be **Undirected**, since the relationship represents the dialogue and not a character's sense of speech. The graph network can be **Unweighted** because."
      ]
    },
    {
      "attachments": {},
      "cell_type": "markdown",
      "metadata": {
        "id": "hct-5tQwNg5_"
      },
      "source": [
        "## Question 10"
      ]
    },
    {
      "attachments": {},
      "cell_type": "markdown",
      "metadata": {
        "id": "soJKH_N1Nnj3"
      },
      "source": [
        "Imagine that your social network has a subnetwork where you and 24 of your friends (25 people total) are all friends with each other. What is such a subnetwork called? And how many links are contained in the subnetwork?"
      ]
    },
    {
      "attachments": {},
      "cell_type": "markdown",
      "metadata": {
        "id": "e8GcJrj1Npay"
      },
      "source": [
        "<span style=\"color: #7EFFA2\">Answer: </span>\n",
        "\n",
        "It's called **Complete Graph**.\n",
        "\n",
        "One node can be linked to 24 other nodes, and we have 25 nodes. However, we cannot count repeat links, so:\n",
        "\n",
        "$C^{25}_2 = \\frac{25!}{(25 - 2)! 2!} = \\frac{25 \\cdot (25 - 1)}{2} = 300$ links in that network"
      ]
    },
    {
      "attachments": {},
      "cell_type": "markdown",
      "metadata": {
        "id": "--K9oj5YNrjz"
      },
      "source": [
        "## Question 11"
      ]
    },
    {
      "attachments": {},
      "cell_type": "markdown",
      "metadata": {
        "id": "DRFut7ovNz41"
      },
      "source": [
        "Consider an undirected network with N nodes. What is the maximum number of links this network can have?"
      ]
    },
    {
      "attachments": {},
      "cell_type": "markdown",
      "metadata": {
        "id": "60iToMENN61m"
      },
      "source": [
        "<span style=\"color: #7EFFA2\">Answer: </span>\n",
        "\n",
        "If we don't have self-loops:\n",
        "\n",
        "$C^{N}_2 = \\frac{N!}{(N - 2)! 2!} = \\frac{N \\cdot (N - 1)}{2} $ links in that network\n",
        "\n",
        "If we have self-loops, we just add $N$ to the equation above"
      ]
    },
    {
      "attachments": {},
      "cell_type": "markdown",
      "metadata": {
        "id": "cER1jb6SN8NF"
      },
      "source": [
        "## Question 12"
      ]
    },
    {
      "attachments": {},
      "cell_type": "markdown",
      "metadata": {
        "id": "PyyEb1GeOBK9"
      },
      "source": [
        "Consider a bipartite network of N nodes, $N_1$ nodes of type 1 and $N_2$ nodes of type 2 (so that $N_1 + N_2 = N$). What is the maximum number of links in this network?"
      ]
    },
    {
      "attachments": {},
      "cell_type": "markdown",
      "metadata": {
        "id": "6AoiES-AOJdB"
      },
      "source": [
        "<span style=\"color: #7EFFA2\">Answer: </span>\n",
        "\n",
        "For each node in group 1, we can have a maximum of $N_2$ links. So we have $L_{max} = N_1 \\cdot N_2$"
      ]
    },
    {
      "attachments": {},
      "cell_type": "markdown",
      "metadata": {
        "id": "RN4CfOSqOK_1"
      },
      "source": [
        "## Question 13"
      ]
    },
    {
      "attachments": {},
      "cell_type": "markdown",
      "metadata": {
        "id": "9SGJKgblOO9g"
      },
      "source": [
        "Given a complete network A with N nodes, and a bipartite network B also with N nodes, which of the following holds true for any $N > 2$:\n",
        "\n",
        "1. Network A has more links than network B\n",
        "2. Network A has the same number of links as network B\n",
        "3. Network A has fewer links than network B\n",
        "4. None of these hold true for all such $N > 2$"
      ]
    },
    {
      "attachments": {},
      "cell_type": "markdown",
      "metadata": {
        "id": "cwF6C1uLOiWr"
      },
      "source": [
        "<span style=\"color: #7EFFA2\">Answer: </span>"
      ]
    },
    {
      "cell_type": "code",
      "execution_count": 37,
      "metadata": {},
      "outputs": [],
      "source": [
        "N = 100\n",
        "\n",
        "values = []\n",
        "\n",
        "for N1 in range(3, 1000):\n",
        "  for N2 in range(3, 1000):\n",
        "    if N1 + N2 == N:\n",
        "      values.append(N1 * N2)"
      ]
    },
    {
      "attachments": {},
      "cell_type": "markdown",
      "metadata": {},
      "source": [
        "The maximum value for Bipartite will occur when $N_1 = N_2$"
      ]
    },
    {
      "cell_type": "code",
      "execution_count": 38,
      "metadata": {},
      "outputs": [
        {
          "data": {
            "image/png": "[encoded data removed]",
            "text/plain": [
              "<Figure size 1600x600 with 1 Axes>"
            ]
          },
          "metadata": {},
          "output_type": "display_data"
        }
      ],
      "source": [
        "plt.figure(figsize=(16, 6))\n",
        "plt.plot(values)\n",
        "\n",
        "plt.title(\"Bipartite\", fontsize=20)\n",
        "plt.ylabel(\"$N_1 \\cdot N_2$\", fontsize=16)\n",
        "\n",
        "plt.grid()\n",
        "plt.show()"
      ]
    },
    {
      "attachments": {},
      "cell_type": "markdown",
      "metadata": {},
      "source": [
        "If $N_1 = N_2 \\rightarrow N_1 = \\frac{N}{2}$ we can compute the $L_{max}$ for a bipartite using $L_{max} = \\left ( \\frac{N}{2} \\right )^2$. In the case:\n",
        "\n",
        "Complete: \n",
        "\n",
        "$\\frac{N \\cdot (N - 1)}{2} = \\frac{N^2 - N}{2} = \\frac{N^2}{2} - \\frac{N}{2}$\n",
        "<br>\n",
        "<br>\n",
        "Bipartite: \n",
        "\n",
        "$\\left ( \\frac{N}{2} \\right )^2 = \\frac{N^2}{4}$\n",
        "<br>\n",
        "<br>\n",
        "Testin the hypothesis that $L_{max}($ Complete $) > L_{max}($ Bipartite $)$:\n",
        "\n",
        "$\\frac{N^2}{2} - \\frac{N}{2} > \\frac{N^2}{4}$\n",
        "\n",
        "$2N^2 - 2N > N^2$\n",
        "\n",
        "$N^2 - 2N > 0$\n",
        "\n",
        "$N^2 > 2N$. That's truth when $N > 2$\n",
        "\n",
        "For $N \\geq 3$\n",
        "\n",
        "$3^2 - 2 \\cdot 3 \\geq 0$\n",
        "\n",
        "$9 - 6 \\geq 0$\n",
        "\n",
        "$3 \\geq 0$\n",
        "\n"
      ]
    },
    {
      "cell_type": "code",
      "execution_count": 39,
      "metadata": {},
      "outputs": [],
      "source": [
        "def L_complete(N : int) -> int:\n",
        "  return N * (N - 1) / 2\n",
        "\n",
        "def L_bipartite(N : int) -> int:\n",
        "  return (N / 2)**2"
      ]
    },
    {
      "cell_type": "code",
      "execution_count": 40,
      "metadata": {},
      "outputs": [],
      "source": [
        "N = np.arange(3, 101, 1)\n",
        "\n",
        "L_A = [L_complete(n) for n in N]\n",
        "L_B = [L_bipartite(n) for n in N]"
      ]
    },
    {
      "cell_type": "code",
      "execution_count": 41,
      "metadata": {},
      "outputs": [
        {
          "data": {
            "image/png": "[encoded data removed]",
            "text/plain": [
              "<Figure size 1600x600 with 1 Axes>"
            ]
          },
          "metadata": {},
          "output_type": "display_data"
        }
      ],
      "source": [
        "plt.figure(figsize=(16, 6))\n",
        "\n",
        "plt.plot(L_A, label=\"Complete\")\n",
        "plt.plot(L_B, label=\"Bipartite\")\n",
        "\n",
        "plt.title(\"Comparative for $N \\in [3, 100]$\", fontsize=20)\n",
        "plt.ylabel(\"$L_{max}$\", fontsize=16)\n",
        "plt.xlabel(\"$N$\", fontsize=16)\n",
        "\n",
        "plt.grid()\n",
        "plt.legend()\n",
        "plt.show()"
      ]
    },
    {
      "attachments": {},
      "cell_type": "markdown",
      "metadata": {},
      "source": [
        "In conclusion, the mnetwork A has more links than network B.\n",
        "\n",
        "**1** is correct."
      ]
    },
    {
      "attachments": {},
      "cell_type": "markdown",
      "metadata": {
        "id": "SKKotfslOluz"
      },
      "source": [
        "## Question 14\n",
        "\n"
      ]
    },
    {
      "attachments": {},
      "cell_type": "markdown",
      "metadata": {
        "id": "GMh5WvjiPwzv"
      },
      "source": [
        "Consider this adjacency matrix:\n",
        "\n",
        "<center><img width=\"300\" src=\"https://drive.google.com/uc?export=view&id=1e4ANqX_kJCPhnVizvbK-ToBJgrZJpVde\"></center>\n",
        "\n",
        "An entry in the ith row and jth column indicates the weight of the link from node i to node j. For instance, the entry in the second row and third column is 2, meaning the weight of the link from node B to node C is 2. What kind of network does this matrix represent?\n",
        "\n",
        "1. Undirected, unweighted\n",
        "2. Undirected, weighted\n",
        "3. Directed, unweighted\n",
        "4. Directed, weighted\n"
      ]
    },
    {
      "attachments": {},
      "cell_type": "markdown",
      "metadata": {
        "id": "UD5mRmSpRelN"
      },
      "source": [
        "<span style=\"color: #7EFFA2\">Answer: </span>\n",
        "\n",
        "If the matrix is not **symmetric**, it's a <ins>Directed, weighted</ins> network.\n",
        "\n",
        "Correct is **4**."
      ]
    },
    {
      "attachments": {},
      "cell_type": "markdown",
      "metadata": {
        "id": "N92A04bZP6Uu"
      },
      "source": [
        "## Question 15"
      ]
    },
    {
      "attachments": {},
      "cell_type": "markdown",
      "metadata": {
        "id": "MqTaMtfDRKY1"
      },
      "source": [
        "We have seen that Facebook’s network is incredibly sparse. Assume it has approximately 1 billion users, each with 1000 friends on average.\n",
        "\n",
        "1. Suppose Facebook releases its annual report and it shows that while the number of users in the network has stayed the same, the average number of friends per user has increased. Would this imply that the network density increased, decreased, or stayed the same?\n",
        "2. Suppose instead that both the number of users and the average number of friends per user doubled. Would this imply the network density increased, decreased, or stayed the same?\n",
        "\n"
      ]
    },
    {
      "attachments": {},
      "cell_type": "markdown",
      "metadata": {
        "id": "tc14eV8jRXsu"
      },
      "source": [
        "<span style=\"color: #7EFFA2\">Answer: </span>\n",
        "\n",
        "1. By the **density** formula:\n",
        "\n",
        "    $0 \\leq d = \\frac{L}{L_{max}} \\leq 1$\n",
        "\n",
        "    If the number of users stay the same ($L_{max}$ is constant) and now have more friends per user ($L$ was increased), the value of density will be increased too\n",
        "\n",
        "2. By the **density** formula above, the density will stay, relatively, the same\n"
      ]
    },
    {
      "attachments": {},
      "cell_type": "markdown",
      "metadata": {
        "id": "hzp00QnjRgxU"
      },
      "source": [
        "## Question 16"
      ]
    },
    {
      "attachments": {},
      "cell_type": "markdown",
      "metadata": {
        "id": "9O0ElA4FR1sR"
      },
      "source": [
        "Netflix keeps data on customer preferences using a big bipartite network connecting users to titles. Suppose that from 2021 to 2022 Netflix’s library has remained the same size, while the number of users has increased. Further suppose that the average user’s degree in this network has remained constant. Has the density of this network increased, decreased, or stayed the same?"
      ]
    },
    {
      "attachments": {},
      "cell_type": "markdown",
      "metadata": {
        "id": "UdewP6VvR6VD"
      },
      "source": [
        "<span style=\"color: #7EFFA2\">Answer: </span>\n",
        "\n",
        "The **density** was decreased"
      ]
    },
    {
      "attachments": {},
      "cell_type": "markdown",
      "metadata": {
        "id": "3xO32cYISYkQ"
      },
      "source": [
        "# Exercise - Hands On (1,00 point for grade in Unit 02)"
      ]
    },
    {
      "attachments": {},
      "cell_type": "markdown",
      "metadata": {
        "id": "-I9SonWrTIH-"
      },
      "source": [
        "Implementing all hands on using [NetworkX](https://networkx.org/)."
      ]
    },
    {
      "attachments": {},
      "cell_type": "markdown",
      "metadata": {
        "id": "7if-CnFwSfPc"
      },
      "source": [
        "## Hands On 01"
      ]
    },
    {
      "attachments": {},
      "cell_type": "markdown",
      "metadata": {
        "id": "SuO9vOYd9gFV"
      },
      "source": [
        "\n",
        "Often in the context of trees, a node with degree 1 is called a *leaf*. Write a function named `get_leaves` that takes a graph as an argument, loops through the nodes, and returns a list of nodes with degree 1."
      ]
    },
    {
      "cell_type": "code",
      "execution_count": 42,
      "metadata": {
        "id": "FlGKqf0MmgnB",
        "scrolled": true
      },
      "outputs": [],
      "source": [
        "def get_leaves(G):\n",
        "  return [node for node in G.nodes if G.degree(node) == 1]"
      ]
    },
    {
      "cell_type": "code",
      "execution_count": 43,
      "metadata": {
        "id": "mVBLr5_xmgnB",
        "scrolled": true
      },
      "outputs": [],
      "source": [
        "# this block of code is only for networkx adapt it for graph-tool\n",
        "G = nx.Graph()\n",
        "G.add_edges_from([\n",
        "        ('a', 'b'),\n",
        "        ('a', 'd'),\n",
        "        ('c', 'd'),\n",
        "    ])\n",
        "assert set(get_leaves(G)) == {'c', 'b'}"
      ]
    },
    {
      "attachments": {},
      "cell_type": "markdown",
      "metadata": {
        "id": "TcYdyCnEmgnD"
      },
      "source": [
        "## Hands On 02"
      ]
    },
    {
      "attachments": {},
      "cell_type": "markdown",
      "metadata": {
        "id": "MsE6DTbI9m4t"
      },
      "source": [
        "\n",
        "Write a function max_degree that takes a graph as its argument, and returns a 2-tuple with the name and degree of the node with highest degree."
      ]
    },
    {
      "cell_type": "code",
      "execution_count": 44,
      "metadata": {
        "id": "DLufczZQmgnD",
        "scrolled": false
      },
      "outputs": [],
      "source": [
        "def max_degree(G):\n",
        "    higher = -1\n",
        "\n",
        "    for key, value in G.degree(G.nodes):\n",
        "        if value > higher:\n",
        "            higher = value\n",
        "            node = key\n",
        "\n",
        "    return (node, higher)"
      ]
    },
    {
      "cell_type": "code",
      "execution_count": 45,
      "metadata": {
        "id": "aEQapPYNmgnD",
        "scrolled": false
      },
      "outputs": [],
      "source": [
        "# this block of code is only for networkx adapt it for graph-tool\n",
        "SG = nx.read_adjlist('friends.adjlist')\n",
        "assert max_degree(SG) == ('Claire', 4)"
      ]
    },
    {
      "attachments": {},
      "cell_type": "markdown",
      "metadata": {
        "id": "MCDbNldnmgnD"
      },
      "source": [
        "## Hands on 03"
      ]
    },
    {
      "attachments": {},
      "cell_type": "markdown",
      "metadata": {
        "id": "RWup3uDm9n5I"
      },
      "source": [
        "\n",
        "Write a function `mutual_friends` that takes a graph and two nodes as arguments, and returns a list (or set) of nodes that are linked to both given nodes. For example, in the graph `SG` drawn above,\n",
        "\n",
        "    mutual_friends(SG, 'Alice', 'Claire') == ['Frank']\n",
        "\n",
        "an empty list or set should be returned in the case where two nodes have no mutual friends, e.g. George and Bob in `SG` drawn above."
      ]
    },
    {
      "cell_type": "code",
      "execution_count": 46,
      "metadata": {
        "id": "hpnX9YeKmgnD",
        "scrolled": false
      },
      "outputs": [],
      "source": [
        "def mutual_friends(G, node_1, node_2):\n",
        "  node_1_friends = set(SG.neighbors(node_1))\n",
        "  node_2_friends = set(SG.neighbors(node_2))\n",
        "\n",
        "  mutual = node_1_friends.intersection(node_2_friends)\n",
        "\n",
        "  return list(mutual)"
      ]
    },
    {
      "cell_type": "code",
      "execution_count": 47,
      "metadata": {
        "id": "B2n0vCRYmgnE",
        "scrolled": true
      },
      "outputs": [],
      "source": [
        "# this block of code is only for networkx adapt it for graph-tool\n",
        "SG = nx.read_adjlist('friends.adjlist')\n",
        "assert mutual_friends(SG, 'Alice', 'Claire') == ['Frank']\n",
        "assert mutual_friends(SG, 'George', 'Bob') == []\n",
        "assert sorted(mutual_friends(SG, 'Claire', 'George')) == ['Dennis', 'Frank']"
      ]
    }
  ],
  "metadata": {
    "colab": {
      "collapsed_sections": [
        "QPVskC76LUtF",
        "ZT5mLS7-Lsb2",
        "4-bIhQwpMVs3",
        "S4Ga_yyYNBBo",
        "hct-5tQwNg5_",
        "--K9oj5YNrjz",
        "cER1jb6SN8NF",
        "RN4CfOSqOK_1",
        "SKKotfslOluz",
        "N92A04bZP6Uu",
        "hzp00QnjRgxU",
        "7if-CnFwSfPc",
        "TcYdyCnEmgnD",
        "MCDbNldnmgnD"
      ],
      "provenance": []
    },
    "kernelspec": {
      "display_name": "Python 3",
      "name": "python3"
    },
    "language_info": {
      "codemirror_mode": {
        "name": "ipython",
        "version": 3
      },
      "file_extension": ".py",
      "mimetype": "text/x-python",
      "name": "python",
      "nbconvert_exporter": "python",
      "pygments_lexer": "ipython3",
      "version": "3.10.6"
    }
  },
  "nbformat": 4,
  "nbformat_minor": 0
}
